{
 "cells": [
  {
   "cell_type": "code",
   "execution_count": 5,
   "metadata": {
    "collapsed": true
   },
   "outputs": [],
   "source": [
    "import ujson\n",
    "\n",
    "\n",
    "wikidata_types_1229 = ujson.load(open('../database_v1.0.0/emb_data/wikidata_types_1229.json'))\n",
    "\n",
    "wikidatatitle_to_typeid_1229 = ujson.load(open('../database_v1.0.0/emb_data/wikidatatitle_to_typeid_1229.json'))\n",
    "\n",
    "wikidatatitle_to_typeqid_1229 = ujson.load(open('../database_v1.0.0/emb_data/wikidatatitle_to_typeqid_1229.json'))"
   ]
  },
  {
   "cell_type": "code",
   "execution_count": 8,
   "outputs": [],
   "source": [
    "\n",
    "BootlegTypeID_to_WikiTypeQID = {}\n",
    "for k, v in wikidatatitle_to_typeid_1229.items():\n",
    "    BootlegTypeID_to_WikiTypeQID[v] = wikidatatitle_to_typeqid_1229[k]\n",
    "ujson.dump(BootlegTypeID_to_WikiTypeQID, open('../database_v1.0.0/emb_data/BootlegTypeID_to_WikiTypeQID_1229.json', 'w'))"
   ],
   "metadata": {
    "collapsed": false,
    "pycharm": {
     "name": "#%%\n"
    }
   }
  },
  {
   "cell_type": "code",
   "execution_count": 11,
   "outputs": [],
   "source": [
    "from collections import defaultdict\n",
    "WikiQID_to_WikiTypeQID = defaultdict(list)\n",
    "for k, v in wikidata_types_1229.items():\n",
    "    WikiQID_to_WikiTypeQID[k] = [BootlegTypeID_to_WikiTypeQID[val] for val in v]\n",
    "ujson.dump(WikiQID_to_WikiTypeQID, open('../database_v1.0.0/emb_data/WikiQID_to_WikiTypeQID_1229.json', 'w'))"
   ],
   "metadata": {
    "collapsed": false,
    "pycharm": {
     "name": "#%%\n"
    }
   }
  }
 ],
 "metadata": {
  "kernelspec": {
   "name": "python3",
   "language": "python",
   "display_name": "Python 3"
  },
  "language_info": {
   "codemirror_mode": {
    "name": "ipython",
    "version": 2
   },
   "file_extension": ".py",
   "mimetype": "text/x-python",
   "name": "python",
   "nbconvert_exporter": "python",
   "pygments_lexer": "ipython2",
   "version": "2.7.6"
  }
 },
 "nbformat": 4,
 "nbformat_minor": 0
}
